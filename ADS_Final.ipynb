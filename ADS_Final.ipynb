{
 "cells": [
  {
   "cell_type": "code",
   "execution_count": 1,
   "metadata": {},
   "outputs": [
    {
     "name": "stdout",
     "output_type": "stream",
     "text": [
      "Pattern found at index  0\n",
      "Pattern found at index  9\n",
      "Pattern found at index  13\n"
     ]
    }
   ],
   "source": [
    "#59. Discuss the implementation of naïve string-matching algorithm.\n",
    "# Python3 program for Naive Pattern\n",
    "# Searching algorithm\n",
    "\n",
    "def search(pat, txt):\n",
    "\tM = len(pat)\n",
    "\tN = len(txt)\n",
    "\n",
    "\t# A loop to slide pat[] one by one */\n",
    "\tfor i in range(N - M + 1):\n",
    "\t\tj = 0\n",
    "\n",
    "\t\t# For current index i, check\n",
    "\t\t# for pattern match */\n",
    "\t\twhile(j < M):\n",
    "\t\t\tif (txt[i + j] != pat[j]):\n",
    "\t\t\t\tbreak\n",
    "\t\t\tj += 1\n",
    "\n",
    "\t\tif (j == M):\n",
    "\t\t\tprint(\"Pattern found at index \", i)\n",
    "\n",
    "\n",
    "# Driver's Code\n",
    "if __name__ == '__main__':\n",
    "\ttxt = \"AABAACAADAABAAABAA\"\n",
    "\tpat = \"AABA\"\n",
    "\t\n",
    "\t# Function call\n",
    "\tsearch(pat, txt)\n",
    "\n",
    "# This code is contributed\n",
    "# by PrinciRaj1992\n"
   ]
  }
 ],
 "metadata": {
  "kernelspec": {
   "display_name": "AIMLSem1",
   "language": "python",
   "name": "python3"
  },
  "language_info": {
   "codemirror_mode": {
    "name": "ipython",
    "version": 3
   },
   "file_extension": ".py",
   "mimetype": "text/x-python",
   "name": "python",
   "nbconvert_exporter": "python",
   "pygments_lexer": "ipython3",
   "version": "3.9.17"
  }
 },
 "nbformat": 4,
 "nbformat_minor": 2
}
